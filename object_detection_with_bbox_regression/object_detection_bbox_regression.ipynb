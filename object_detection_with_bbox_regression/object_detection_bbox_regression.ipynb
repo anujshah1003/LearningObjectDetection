{
 "cells": [
  {
   "cell_type": "markdown",
   "id": "ff6eae0e",
   "metadata": {},
   "source": [
    "### The idea is very intuitive. we will train a n/w that will predict bbox coordinates along with the probability score of the class of object in the image\n",
    "### when we train a image classifier , we input an image and get probability score as output \n",
    "### when we train a detector we will input and image and get along with the probability score , 4 more values representing top left and bottom right (x,y).\n",
    "### we will have a base n/w for extracting features and two branches one for classification , other for regression"
   ]
  },
  {
   "cell_type": "code",
   "execution_count": 30,
   "id": "6f495d77",
   "metadata": {},
   "outputs": [],
   "source": [
    "# import the necessary packages\n",
    "#from pyimagesearch import config\n",
    "from tensorflow.keras.applications import VGG16\n",
    "from tensorflow.keras.layers import Flatten\n",
    "from tensorflow.keras.layers import Dropout\n",
    "from tensorflow.keras.layers import Dense\n",
    "from tensorflow.keras.layers import Input\n",
    "from tensorflow.keras.models import Model\n",
    "from tensorflow.keras.optimizers import Adam\n",
    "from tensorflow.keras.preprocessing.image import img_to_array\n",
    "from tensorflow.keras.preprocessing.image import load_img\n",
    "from tensorflow.keras.utils import to_categorical\n",
    "from sklearn.preprocessing import LabelBinarizer\n",
    "from sklearn.model_selection import train_test_split\n",
    "from imutils import paths\n",
    "import matplotlib.pyplot as plt\n",
    "import numpy as np\n",
    "import pickle\n",
    "import cv2\n",
    "import os"
   ]
  },
  {
   "cell_type": "code",
   "execution_count": 31,
   "id": "aacac370",
   "metadata": {},
   "outputs": [],
   "source": [
    "#! pip install opencv-python\n"
   ]
  },
  {
   "cell_type": "code",
   "execution_count": 32,
   "id": "55075771",
   "metadata": {},
   "outputs": [],
   "source": [
    "### importing the resnet model\n",
    "from tensorflow.keras.applications import ResNet50\n",
    "from tensorflow.keras.applications.resnet import preprocess_input\n",
    "from tensorflow.keras.preprocessing.image import img_to_array\n",
    "from tensorflow.keras.applications import imagenet_utils\n",
    "from imutils.object_detection import non_max_suppression\n",
    "import imutils"
   ]
  },
  {
   "cell_type": "code",
   "execution_count": 74,
   "id": "6a8296b7",
   "metadata": {},
   "outputs": [],
   "source": [
    "classes_to_label={\"dolphin\":0,\"helicopter\":1,\"panda\":2}\n",
    "labels_to_class={0:\"dolphin\",1:\"helicopter\",2:\"panda\"}\n",
    "\n",
    "num_classes=len(classes_to_label)"
   ]
  },
  {
   "cell_type": "code",
   "execution_count": 34,
   "id": "9d113691",
   "metadata": {},
   "outputs": [],
   "source": [
    "# load the VGG16 network, ensuring the head FC layers are left off\n",
    "vgg = VGG16(weights=\"imagenet\", include_top=False,\n",
    "\tinput_tensor=Input(shape=(224, 224, 3)))\n",
    "# freeze all VGG layers so they will *not* be updated during the\n",
    "# training process\n",
    "vgg.trainable = False\n",
    "# flatten the max-pooling output of VGG\n",
    "flatten = vgg.output\n",
    "flatten = Flatten()(flatten)"
   ]
  },
  {
   "cell_type": "code",
   "execution_count": null,
   "id": "ce59393a",
   "metadata": {},
   "outputs": [],
   "source": []
  },
  {
   "cell_type": "code",
   "execution_count": 35,
   "id": "45f38c44",
   "metadata": {},
   "outputs": [],
   "source": [
    "# construct a fully-connected layer header to output the predicted\n",
    "# bounding box coordinates\n",
    "bboxHead = Dense(128, activation=\"relu\")(flatten)\n",
    "bboxHead = Dense(64, activation=\"relu\")(bboxHead)\n",
    "bboxHead = Dense(32, activation=\"relu\")(bboxHead)\n",
    "bboxHead = Dense(4, activation=\"sigmoid\",\n",
    "\tname=\"bounding_box\")(bboxHead)\n",
    "# construct a second fully-connected layer head, this one to predict\n",
    "# the class label\n",
    "softmaxHead = Dense(512, activation=\"relu\")(flatten)\n",
    "softmaxHead = Dropout(0.5)(softmaxHead)\n",
    "softmaxHead = Dense(512, activation=\"relu\")(softmaxHead)\n",
    "softmaxHead = Dropout(0.5)(softmaxHead)\n",
    "softmaxHead = Dense(num_classes, activation=\"softmax\",\n",
    "\tname=\"class_label\")(softmaxHead)\n",
    "# put together our model which accept an input image and then output\n",
    "# bounding box coordinates and a class label\n",
    "model = Model(\n",
    "\tinputs=vgg.input,\n",
    "\toutputs=(bboxHead, softmaxHead))"
   ]
  },
  {
   "cell_type": "code",
   "execution_count": 36,
   "id": "749e4779",
   "metadata": {},
   "outputs": [],
   "source": [
    "#model.summary()"
   ]
  },
  {
   "cell_type": "code",
   "execution_count": 37,
   "id": "166cc671",
   "metadata": {},
   "outputs": [],
   "source": [
    "# initialize our initial learning rate, number of epochs to train\n",
    "# for, and the batch size\n",
    "lr = 0.0001\n",
    "num_epochs = 20\n",
    "batch_size = 32"
   ]
  },
  {
   "cell_type": "code",
   "execution_count": 38,
   "id": "580b53c4",
   "metadata": {},
   "outputs": [
    {
     "name": "stdout",
     "output_type": "stream",
     "text": [
      "Model: \"model_1\"\n",
      "__________________________________________________________________________________________________\n",
      " Layer (type)                   Output Shape         Param #     Connected to                     \n",
      "==================================================================================================\n",
      " input_2 (InputLayer)           [(None, 224, 224, 3  0           []                               \n",
      "                                )]                                                                \n",
      "                                                                                                  \n",
      " block1_conv1 (Conv2D)          (None, 224, 224, 64  1792        ['input_2[0][0]']                \n",
      "                                )                                                                 \n",
      "                                                                                                  \n",
      " block1_conv2 (Conv2D)          (None, 224, 224, 64  36928       ['block1_conv1[0][0]']           \n",
      "                                )                                                                 \n",
      "                                                                                                  \n",
      " block1_pool (MaxPooling2D)     (None, 112, 112, 64  0           ['block1_conv2[0][0]']           \n",
      "                                )                                                                 \n",
      "                                                                                                  \n",
      " block2_conv1 (Conv2D)          (None, 112, 112, 12  73856       ['block1_pool[0][0]']            \n",
      "                                8)                                                                \n",
      "                                                                                                  \n",
      " block2_conv2 (Conv2D)          (None, 112, 112, 12  147584      ['block2_conv1[0][0]']           \n",
      "                                8)                                                                \n",
      "                                                                                                  \n",
      " block2_pool (MaxPooling2D)     (None, 56, 56, 128)  0           ['block2_conv2[0][0]']           \n",
      "                                                                                                  \n",
      " block3_conv1 (Conv2D)          (None, 56, 56, 256)  295168      ['block2_pool[0][0]']            \n",
      "                                                                                                  \n",
      " block3_conv2 (Conv2D)          (None, 56, 56, 256)  590080      ['block3_conv1[0][0]']           \n",
      "                                                                                                  \n",
      " block3_conv3 (Conv2D)          (None, 56, 56, 256)  590080      ['block3_conv2[0][0]']           \n",
      "                                                                                                  \n",
      " block3_pool (MaxPooling2D)     (None, 28, 28, 256)  0           ['block3_conv3[0][0]']           \n",
      "                                                                                                  \n",
      " block4_conv1 (Conv2D)          (None, 28, 28, 512)  1180160     ['block3_pool[0][0]']            \n",
      "                                                                                                  \n",
      " block4_conv2 (Conv2D)          (None, 28, 28, 512)  2359808     ['block4_conv1[0][0]']           \n",
      "                                                                                                  \n",
      " block4_conv3 (Conv2D)          (None, 28, 28, 512)  2359808     ['block4_conv2[0][0]']           \n",
      "                                                                                                  \n",
      " block4_pool (MaxPooling2D)     (None, 14, 14, 512)  0           ['block4_conv3[0][0]']           \n",
      "                                                                                                  \n",
      " block5_conv1 (Conv2D)          (None, 14, 14, 512)  2359808     ['block4_pool[0][0]']            \n",
      "                                                                                                  \n",
      " block5_conv2 (Conv2D)          (None, 14, 14, 512)  2359808     ['block5_conv1[0][0]']           \n",
      "                                                                                                  \n",
      " block5_conv3 (Conv2D)          (None, 14, 14, 512)  2359808     ['block5_conv2[0][0]']           \n",
      "                                                                                                  \n",
      " block5_pool (MaxPooling2D)     (None, 7, 7, 512)    0           ['block5_conv3[0][0]']           \n",
      "                                                                                                  \n",
      " flatten_1 (Flatten)            (None, 25088)        0           ['block5_pool[0][0]']            \n",
      "                                                                                                  \n",
      " dense_8 (Dense)                (None, 512)          12845568    ['flatten_1[0][0]']              \n",
      "                                                                                                  \n",
      " dense_5 (Dense)                (None, 128)          3211392     ['flatten_1[0][0]']              \n",
      "                                                                                                  \n",
      " dropout_2 (Dropout)            (None, 512)          0           ['dense_8[0][0]']                \n",
      "                                                                                                  \n",
      " dense_6 (Dense)                (None, 64)           8256        ['dense_5[0][0]']                \n",
      "                                                                                                  \n",
      " dense_9 (Dense)                (None, 512)          262656      ['dropout_2[0][0]']              \n",
      "                                                                                                  \n",
      " dense_7 (Dense)                (None, 32)           2080        ['dense_6[0][0]']                \n",
      "                                                                                                  \n",
      " dropout_3 (Dropout)            (None, 512)          0           ['dense_9[0][0]']                \n",
      "                                                                                                  \n",
      " bounding_box (Dense)           (None, 4)            132         ['dense_7[0][0]']                \n",
      "                                                                                                  \n",
      " class_label (Dense)            (None, 3)            1539        ['dropout_3[0][0]']              \n",
      "                                                                                                  \n",
      "==================================================================================================\n",
      "Total params: 31,046,311\n",
      "Trainable params: 16,331,623\n",
      "Non-trainable params: 14,714,688\n",
      "__________________________________________________________________________________________________\n",
      "None\n"
     ]
    },
    {
     "name": "stderr",
     "output_type": "stream",
     "text": [
      "C:\\Users\\uid38717\\Anaconda3\\envs\\tensorflow_env\\lib\\site-packages\\keras\\optimizers\\optimizer_v2\\adam.py:114: UserWarning: The `lr` argument is deprecated, use `learning_rate` instead.\n",
      "  super().__init__(name, **kwargs)\n"
     ]
    }
   ],
   "source": [
    "# define a dictionary to set the loss methods -- categorical\n",
    "# cross-entropy for the class label head and mean absolute error\n",
    "# for the bounding box head\n",
    "losses = {\"class_label\": \"categorical_crossentropy\",\"bounding_box\": \"mean_squared_error\",}\n",
    "# define a dictionary that specifies the weights per loss (both the\n",
    "# class label and bounding box outputs will receive equal weight)\n",
    "lossWeights = {\"class_label\": 1.0,\"bounding_box\": 1.0}\n",
    "# initialize the optimizer, compile the model, and show the model\n",
    "# summary\n",
    "opt = Adam(lr=lr)\n",
    "model.compile(loss=losses, optimizer=opt, metrics=[\"accuracy\"], loss_weights=lossWeights)\n",
    "print(model.summary())"
   ]
  },
  {
   "cell_type": "code",
   "execution_count": 39,
   "id": "ca366f64",
   "metadata": {},
   "outputs": [],
   "source": [
    "#from keras.utils.vis_utils import plot_model\n",
    "#plot_model(model, to_file='model_plot.png', show_shapes=True, show_layer_names=True)"
   ]
  },
  {
   "cell_type": "markdown",
   "id": "34bdf28a",
   "metadata": {},
   "source": [
    "#### Preparing the data"
   ]
  },
  {
   "cell_type": "code",
   "execution_count": 40,
   "id": "f5161678",
   "metadata": {},
   "outputs": [],
   "source": [
    "import pandas as pd\n",
    "import random\n",
    "import os"
   ]
  },
  {
   "cell_type": "code",
   "execution_count": 41,
   "id": "253ee021",
   "metadata": {},
   "outputs": [],
   "source": [
    "base_data_path=r\"D:\\LearningObjectDetection\\data\\caltech-101_mini\"\n",
    "base_ann_path=os.path.join(base_data_path,\"annotations\")\n",
    "base_img_path=os.path.join(base_data_path,\"images\")\n",
    "use_categories=[\"dolphin\",\"helicopter\",\"panda\"]"
   ]
  },
  {
   "cell_type": "code",
   "execution_count": 42,
   "id": "1ba53df9",
   "metadata": {},
   "outputs": [],
   "source": [
    "def scale_bbox(src_h,src_w,target_h,target_w):\n",
    "    x_scale=target_w/w\n",
    "    y_scale=target_h/h\n",
    "\n",
    "    x1_=int(x1*x_scale)\n",
    "    y1_=int(y1*y_scale)\n",
    "    x2_=int(x2*x_scale)\n",
    "    y2_=int(y2*y_scale)\n",
    "    return (x1_,y1_,x2_,y2_)\n",
    "\n",
    "def normalize_bbox(img_h,img_w,x1,y1,x2,y2):\n",
    "    # scale the bounding box coordinates relative to the spatial\n",
    "    # dimensions of the input image\n",
    "    x1_ = float(x1) / img_w\n",
    "    y1_ = float(y1) / img_h\n",
    "    x2_ = float(x2) / img_w\n",
    "    y2_ = float(y2) / img_h\n",
    "    return (x1_,y1_,x2_,y2_)"
   ]
  },
  {
   "cell_type": "code",
   "execution_count": 43,
   "id": "a03c1808",
   "metadata": {},
   "outputs": [],
   "source": [
    "target_h,target_w=224,224"
   ]
  },
  {
   "cell_type": "code",
   "execution_count": 44,
   "id": "8db857d3",
   "metadata": {},
   "outputs": [
    {
     "name": "stdout",
     "output_type": "stream",
     "text": [
      "preparing data for: dolphin\n",
      "preparing data for: helicopter\n",
      "preparing data for: panda\n"
     ]
    }
   ],
   "source": [
    "data=[]\n",
    "labels=[]\n",
    "bboxes=[]\n",
    "for category in use_categories:\n",
    "    vis=True\n",
    "    print(\"preparing data for: {}\".format(category))\n",
    "    df_path=os.path.join(base_ann_path,\"{}.csv\".format(category))\n",
    "    df=pd.read_csv(df_path)\n",
    "    for idx,row in df.iterrows():\n",
    "        label=classes_to_label[category]\n",
    "        img_name,x1,y1,x2,y2=row[1:]\n",
    "        img_path=os.path.join(base_img_path,category,img_name)\n",
    "        img=cv2.imread(img_path)\n",
    "        img_2=cv2.resize(img,(224,224))\n",
    "        h,w=img.shape[:2]\n",
    "        #print(h,w)\n",
    "        x1_,y1_,x2_,y2_=scale_bbox(h,w,target_h,target_w)\n",
    "        x1__,y1__,x2__,y2__=normalize_bbox(target_h,target_w,x1_,y1_,x2_,y2_)\n",
    "\n",
    "        #print(x1,y1,x2,y2)\n",
    "        #print(x1_,y1_,x2_,y2_)\n",
    "        #print(x1__,y1__,x2__,y2__)\n",
    "        #image = load_img(img_path, target_size=(224, 224))\n",
    "        #image = img_to_array(image)\n",
    "        #print(\"image: \",image.shape)\n",
    "        if vis:\n",
    "            img_rect=cv2.rectangle(img.copy(),(x1,y1),(x2,y2),color=(255,0,0))\n",
    "            img_rect_2=cv2.rectangle(img_2,(x1,y1),(x2,y2),color=(255,0,0))\n",
    "            img_rect_2=cv2.rectangle(img_rect_2,(x1_,y1_),(x2_,y2_),color=(0,255,0))\n",
    "\n",
    "            cv2.imshow(\"img\",img_rect)\n",
    "            cv2.imshow(\"img2\",img_rect_2)\n",
    "\n",
    "            cv2.waitKey(0)\n",
    "            vis=False\n",
    "        data.append(img_2)\n",
    "        labels.append(label)\n",
    "        bboxes.append((x1__,y1__,x2__,y2__))    \n",
    "    "
   ]
  },
  {
   "cell_type": "code",
   "execution_count": 45,
   "id": "7ae7dbd3",
   "metadata": {},
   "outputs": [
    {
     "name": "stdout",
     "output_type": "stream",
     "text": [
      "191\n",
      "0\n",
      "0\n"
     ]
    }
   ],
   "source": [
    "random.seed(52)\n",
    "merged=list(zip(data,labels,bboxes))\n",
    "print(len(merged))\n",
    "\n",
    "print(merged[0][1])\n",
    "random.shuffle(merged)\n",
    "print(merged[0][1])\n",
    "\n",
    "data = [item[0] for item in merged]\n",
    "labels = [item[1] for item in merged]\n",
    "bboxes = [item[2] for item in merged]"
   ]
  },
  {
   "cell_type": "code",
   "execution_count": 46,
   "id": "edb434b3",
   "metadata": {},
   "outputs": [],
   "source": [
    "data = np.array(data, dtype=\"float32\") / 255.0\n",
    "labels = np.array(labels)\n",
    "bboxes = np.array(bboxes, dtype=\"float32\")"
   ]
  },
  {
   "cell_type": "code",
   "execution_count": 47,
   "id": "1a22526a",
   "metadata": {},
   "outputs": [
    {
     "data": {
      "text/plain": [
       "(191, 224, 224, 3)"
      ]
     },
     "execution_count": 47,
     "metadata": {},
     "output_type": "execute_result"
    }
   ],
   "source": [
    "data.shape"
   ]
  },
  {
   "cell_type": "code",
   "execution_count": 48,
   "id": "c8510d1c",
   "metadata": {},
   "outputs": [
    {
     "name": "stdout",
     "output_type": "stream",
     "text": [
      "[0 0 1 0 2 0 2 0 0 1 2 1 1 1 1 1 1 1 0 1 0 1 1 0 2 0 2 1 1 2 1 1 1 1 2 1 1\n",
      " 1 1 2 0 1 1 0 0 1 0 2 0 2 2 2 0 0 0 1 1 1 1 0 0 1 1 0 0 1 0 2 1 1 1 1 0 0\n",
      " 2 1 1 0 2 1 1 0 1 1 2 1 1 2 1 0 0 1 1 1 1 1 1 0 2 1 1 1 0 1 2 0 1 2 0 2 0\n",
      " 0 1 2 1 1 0 2 0 0 1 1 0 0 0 1 1 0 0 2 2 2 0 1 2 0 0 0 0 1 1 0 1 2 1 0 1 1\n",
      " 2 0 0 2 1 1 1 0 1 2 0 1 1 1 1 2 0 2 0 2 0 0 0 2 1 1 2 0 2 1 1 0 1 0 0 0 1\n",
      " 1 1 1 2 0 1]\n"
     ]
    }
   ],
   "source": [
    "print(labels)"
   ]
  },
  {
   "cell_type": "code",
   "execution_count": 49,
   "id": "b9437979",
   "metadata": {},
   "outputs": [
    {
     "name": "stdout",
     "output_type": "stream",
     "text": [
      "[[1. 0. 0.]\n",
      " [1. 0. 0.]\n",
      " [0. 1. 0.]\n",
      " [1. 0. 0.]\n",
      " [0. 0. 1.]\n",
      " [1. 0. 0.]\n",
      " [0. 0. 1.]\n",
      " [1. 0. 0.]\n",
      " [1. 0. 0.]\n",
      " [0. 1. 0.]\n",
      " [0. 0. 1.]\n",
      " [0. 1. 0.]\n",
      " [0. 1. 0.]\n",
      " [0. 1. 0.]\n",
      " [0. 1. 0.]\n",
      " [0. 1. 0.]\n",
      " [0. 1. 0.]\n",
      " [0. 1. 0.]\n",
      " [1. 0. 0.]\n",
      " [0. 1. 0.]\n",
      " [1. 0. 0.]\n",
      " [0. 1. 0.]\n",
      " [0. 1. 0.]\n",
      " [1. 0. 0.]\n",
      " [0. 0. 1.]\n",
      " [1. 0. 0.]\n",
      " [0. 0. 1.]\n",
      " [0. 1. 0.]\n",
      " [0. 1. 0.]\n",
      " [0. 0. 1.]\n",
      " [0. 1. 0.]\n",
      " [0. 1. 0.]\n",
      " [0. 1. 0.]\n",
      " [0. 1. 0.]\n",
      " [0. 0. 1.]\n",
      " [0. 1. 0.]\n",
      " [0. 1. 0.]\n",
      " [0. 1. 0.]\n",
      " [0. 1. 0.]\n",
      " [0. 0. 1.]\n",
      " [1. 0. 0.]\n",
      " [0. 1. 0.]\n",
      " [0. 1. 0.]\n",
      " [1. 0. 0.]\n",
      " [1. 0. 0.]\n",
      " [0. 1. 0.]\n",
      " [1. 0. 0.]\n",
      " [0. 0. 1.]\n",
      " [1. 0. 0.]\n",
      " [0. 0. 1.]\n",
      " [0. 0. 1.]\n",
      " [0. 0. 1.]\n",
      " [1. 0. 0.]\n",
      " [1. 0. 0.]\n",
      " [1. 0. 0.]\n",
      " [0. 1. 0.]\n",
      " [0. 1. 0.]\n",
      " [0. 1. 0.]\n",
      " [0. 1. 0.]\n",
      " [1. 0. 0.]\n",
      " [1. 0. 0.]\n",
      " [0. 1. 0.]\n",
      " [0. 1. 0.]\n",
      " [1. 0. 0.]\n",
      " [1. 0. 0.]\n",
      " [0. 1. 0.]\n",
      " [1. 0. 0.]\n",
      " [0. 0. 1.]\n",
      " [0. 1. 0.]\n",
      " [0. 1. 0.]\n",
      " [0. 1. 0.]\n",
      " [0. 1. 0.]\n",
      " [1. 0. 0.]\n",
      " [1. 0. 0.]\n",
      " [0. 0. 1.]\n",
      " [0. 1. 0.]\n",
      " [0. 1. 0.]\n",
      " [1. 0. 0.]\n",
      " [0. 0. 1.]\n",
      " [0. 1. 0.]\n",
      " [0. 1. 0.]\n",
      " [1. 0. 0.]\n",
      " [0. 1. 0.]\n",
      " [0. 1. 0.]\n",
      " [0. 0. 1.]\n",
      " [0. 1. 0.]\n",
      " [0. 1. 0.]\n",
      " [0. 0. 1.]\n",
      " [0. 1. 0.]\n",
      " [1. 0. 0.]\n",
      " [1. 0. 0.]\n",
      " [0. 1. 0.]\n",
      " [0. 1. 0.]\n",
      " [0. 1. 0.]\n",
      " [0. 1. 0.]\n",
      " [0. 1. 0.]\n",
      " [0. 1. 0.]\n",
      " [1. 0. 0.]\n",
      " [0. 0. 1.]\n",
      " [0. 1. 0.]\n",
      " [0. 1. 0.]\n",
      " [0. 1. 0.]\n",
      " [1. 0. 0.]\n",
      " [0. 1. 0.]\n",
      " [0. 0. 1.]\n",
      " [1. 0. 0.]\n",
      " [0. 1. 0.]\n",
      " [0. 0. 1.]\n",
      " [1. 0. 0.]\n",
      " [0. 0. 1.]\n",
      " [1. 0. 0.]\n",
      " [1. 0. 0.]\n",
      " [0. 1. 0.]\n",
      " [0. 0. 1.]\n",
      " [0. 1. 0.]\n",
      " [0. 1. 0.]\n",
      " [1. 0. 0.]\n",
      " [0. 0. 1.]\n",
      " [1. 0. 0.]\n",
      " [1. 0. 0.]\n",
      " [0. 1. 0.]\n",
      " [0. 1. 0.]\n",
      " [1. 0. 0.]\n",
      " [1. 0. 0.]\n",
      " [1. 0. 0.]\n",
      " [0. 1. 0.]\n",
      " [0. 1. 0.]\n",
      " [1. 0. 0.]\n",
      " [1. 0. 0.]\n",
      " [0. 0. 1.]\n",
      " [0. 0. 1.]\n",
      " [0. 0. 1.]\n",
      " [1. 0. 0.]\n",
      " [0. 1. 0.]\n",
      " [0. 0. 1.]\n",
      " [1. 0. 0.]\n",
      " [1. 0. 0.]\n",
      " [1. 0. 0.]\n",
      " [1. 0. 0.]\n",
      " [0. 1. 0.]\n",
      " [0. 1. 0.]\n",
      " [1. 0. 0.]\n",
      " [0. 1. 0.]\n",
      " [0. 0. 1.]\n",
      " [0. 1. 0.]\n",
      " [1. 0. 0.]\n",
      " [0. 1. 0.]\n",
      " [0. 1. 0.]\n",
      " [0. 0. 1.]\n",
      " [1. 0. 0.]\n",
      " [1. 0. 0.]\n",
      " [0. 0. 1.]\n",
      " [0. 1. 0.]\n",
      " [0. 1. 0.]\n",
      " [0. 1. 0.]\n",
      " [1. 0. 0.]\n",
      " [0. 1. 0.]\n",
      " [0. 0. 1.]\n",
      " [1. 0. 0.]\n",
      " [0. 1. 0.]\n",
      " [0. 1. 0.]\n",
      " [0. 1. 0.]\n",
      " [0. 1. 0.]\n",
      " [0. 0. 1.]\n",
      " [1. 0. 0.]\n",
      " [0. 0. 1.]\n",
      " [1. 0. 0.]\n",
      " [0. 0. 1.]\n",
      " [1. 0. 0.]\n",
      " [1. 0. 0.]\n",
      " [1. 0. 0.]\n",
      " [0. 0. 1.]\n",
      " [0. 1. 0.]\n",
      " [0. 1. 0.]\n",
      " [0. 0. 1.]\n",
      " [1. 0. 0.]\n",
      " [0. 0. 1.]\n",
      " [0. 1. 0.]\n",
      " [0. 1. 0.]\n",
      " [1. 0. 0.]\n",
      " [0. 1. 0.]\n",
      " [1. 0. 0.]\n",
      " [1. 0. 0.]\n",
      " [1. 0. 0.]\n",
      " [0. 1. 0.]\n",
      " [0. 1. 0.]\n",
      " [0. 1. 0.]\n",
      " [0. 1. 0.]\n",
      " [0. 0. 1.]\n",
      " [1. 0. 0.]\n",
      " [0. 1. 0.]]\n"
     ]
    }
   ],
   "source": [
    "labels_ = to_categorical(labels)\n",
    "print(labels_)"
   ]
  },
  {
   "cell_type": "code",
   "execution_count": 50,
   "id": "600db4c6",
   "metadata": {},
   "outputs": [
    {
     "data": {
      "text/plain": [
       "(191, 4)"
      ]
     },
     "execution_count": 50,
     "metadata": {},
     "output_type": "execute_result"
    }
   ],
   "source": [
    "bboxes.shape"
   ]
  },
  {
   "cell_type": "code",
   "execution_count": 51,
   "id": "09169c12",
   "metadata": {},
   "outputs": [],
   "source": [
    "# partition the data into training and testing splits using 80% of\n",
    "# the data for training and the remaining 20% for testing\n",
    "split = train_test_split(data, labels_, bboxes,test_size=0.20, random_state=42)\n",
    "# unpack the data split\n",
    "(train_images, test_images) = split[:2]\n",
    "(train_labels, test_labels) = split[2:4]\n",
    "(train_bboxes, test_bboxes) = split[4:6]"
   ]
  },
  {
   "cell_type": "code",
   "execution_count": 52,
   "id": "e1dc7821",
   "metadata": {},
   "outputs": [
    {
     "name": "stdout",
     "output_type": "stream",
     "text": [
      "(152, 224, 224, 3) (39, 224, 224, 3)\n",
      "(152, 3) (39, 3)\n",
      "(152, 4) (39, 4)\n"
     ]
    }
   ],
   "source": [
    "print(train_images.shape,test_images.shape)\n",
    "print(train_labels.shape,test_labels.shape)\n",
    "print(train_bboxes.shape,test_bboxes.shape)"
   ]
  },
  {
   "cell_type": "code",
   "execution_count": 53,
   "id": "09aee8fb",
   "metadata": {},
   "outputs": [
    {
     "name": "stdout",
     "output_type": "stream",
     "text": [
      "[[0. 1. 0.]\n",
      " [0. 1. 0.]\n",
      " [1. 0. 0.]\n",
      " [1. 0. 0.]\n",
      " [1. 0. 0.]]\n"
     ]
    }
   ],
   "source": [
    "print(test_labels[0:5])"
   ]
  },
  {
   "cell_type": "code",
   "execution_count": 54,
   "id": "7e80fca7",
   "metadata": {},
   "outputs": [
    {
     "data": {
      "text/plain": [
       "array([[[0.87058824, 0.8156863 , 0.83137256],\n",
       "        [0.87058824, 0.8156863 , 0.83137256],\n",
       "        [0.87058824, 0.8156863 , 0.83137256],\n",
       "        ...,\n",
       "        [0.87058824, 0.7882353 , 0.8       ],\n",
       "        [0.8627451 , 0.78039217, 0.7921569 ],\n",
       "        [0.85882354, 0.7764706 , 0.7882353 ]],\n",
       "\n",
       "       [[0.87058824, 0.8156863 , 0.83137256],\n",
       "        [0.87058824, 0.8156863 , 0.83137256],\n",
       "        [0.87058824, 0.8156863 , 0.83137256],\n",
       "        ...,\n",
       "        [0.87058824, 0.7882353 , 0.8       ],\n",
       "        [0.8627451 , 0.78039217, 0.7921569 ],\n",
       "        [0.85882354, 0.7764706 , 0.7882353 ]],\n",
       "\n",
       "       [[0.87058824, 0.8156863 , 0.83137256],\n",
       "        [0.87058824, 0.8156863 , 0.83137256],\n",
       "        [0.87058824, 0.8156863 , 0.83137256],\n",
       "        ...,\n",
       "        [0.8666667 , 0.78431374, 0.79607844],\n",
       "        [0.8627451 , 0.78039217, 0.7921569 ],\n",
       "        [0.85882354, 0.7764706 , 0.7882353 ]],\n",
       "\n",
       "       ...,\n",
       "\n",
       "       [[0.13725491, 0.29411766, 0.21176471],\n",
       "        [0.14509805, 0.3019608 , 0.22352941],\n",
       "        [0.11764706, 0.2784314 , 0.21176471],\n",
       "        ...,\n",
       "        [0.16470589, 0.3019608 , 0.28627452],\n",
       "        [0.17254902, 0.3137255 , 0.29803923],\n",
       "        [0.15294118, 0.29803923, 0.28235295]],\n",
       "\n",
       "       [[0.10980392, 0.2627451 , 0.1764706 ],\n",
       "        [0.11372549, 0.27058825, 0.19215687],\n",
       "        [0.11372549, 0.27450982, 0.20784314],\n",
       "        ...,\n",
       "        [0.14509805, 0.28235295, 0.26666668],\n",
       "        [0.18039216, 0.32156864, 0.30588236],\n",
       "        [0.16078432, 0.30588236, 0.2901961 ]],\n",
       "\n",
       "       [[0.12941177, 0.28235295, 0.19607843],\n",
       "        [0.08627451, 0.24313726, 0.16470589],\n",
       "        [0.16470589, 0.32941177, 0.25490198],\n",
       "        ...,\n",
       "        [0.1254902 , 0.2627451 , 0.24705882],\n",
       "        [0.1764706 , 0.31764707, 0.3019608 ],\n",
       "        [0.17254902, 0.31764707, 0.3019608 ]]], dtype=float32)"
      ]
     },
     "execution_count": 54,
     "metadata": {},
     "output_type": "execute_result"
    }
   ],
   "source": [
    "train_images[0]"
   ]
  },
  {
   "cell_type": "code",
   "execution_count": 55,
   "id": "ce3a44a4",
   "metadata": {},
   "outputs": [],
   "source": [
    "# construct a dictionary for our target training outputs\n",
    "train_targets = {\n",
    "\t\"class_label\": train_labels,\n",
    "\t\"bounding_box\": train_bboxes\n",
    "}\n",
    "# construct a second dictionary, this one for our target testing\n",
    "# outputs\n",
    "test_targets = {\n",
    "\t\"class_label\": test_labels,\n",
    "\t\"bounding_box\": test_bboxes\n",
    "}"
   ]
  },
  {
   "cell_type": "code",
   "execution_count": 56,
   "id": "f66ef13e",
   "metadata": {},
   "outputs": [
    {
     "name": "stdout",
     "output_type": "stream",
     "text": [
      "[INFO] training model...\n",
      "Epoch 1/20\n",
      "5/5 [==============================] - 16s 3s/step - loss: 1.4947 - bounding_box_loss: 0.0575 - class_label_loss: 1.4372 - bounding_box_accuracy: 0.4211 - class_label_accuracy: 0.3750 - val_loss: 0.6820 - val_bounding_box_loss: 0.0148 - val_class_label_loss: 0.6671 - val_bounding_box_accuracy: 0.6923 - val_class_label_accuracy: 0.8462\n",
      "Epoch 2/20\n",
      "5/5 [==============================] - 15s 3s/step - loss: 0.8514 - bounding_box_loss: 0.0171 - class_label_loss: 0.8343 - bounding_box_accuracy: 0.7171 - class_label_accuracy: 0.6382 - val_loss: 0.5162 - val_bounding_box_loss: 0.0158 - val_class_label_loss: 0.5004 - val_bounding_box_accuracy: 0.7949 - val_class_label_accuracy: 0.9487\n",
      "Epoch 3/20\n",
      "5/5 [==============================] - 16s 3s/step - loss: 0.6095 - bounding_box_loss: 0.0159 - class_label_loss: 0.5936 - bounding_box_accuracy: 0.7039 - class_label_accuracy: 0.7632 - val_loss: 0.3359 - val_bounding_box_loss: 0.0160 - val_class_label_loss: 0.3199 - val_bounding_box_accuracy: 0.7949 - val_class_label_accuracy: 0.8718\n",
      "Epoch 4/20\n",
      "5/5 [==============================] - 15s 3s/step - loss: 0.3759 - bounding_box_loss: 0.0152 - class_label_loss: 0.3607 - bounding_box_accuracy: 0.7039 - class_label_accuracy: 0.8750 - val_loss: 0.2374 - val_bounding_box_loss: 0.0146 - val_class_label_loss: 0.2228 - val_bounding_box_accuracy: 0.7949 - val_class_label_accuracy: 0.9231\n",
      "Epoch 5/20\n",
      "5/5 [==============================] - 15s 3s/step - loss: 0.2703 - bounding_box_loss: 0.0140 - class_label_loss: 0.2563 - bounding_box_accuracy: 0.7039 - class_label_accuracy: 0.9276 - val_loss: 0.2037 - val_bounding_box_loss: 0.0140 - val_class_label_loss: 0.1897 - val_bounding_box_accuracy: 0.7949 - val_class_label_accuracy: 0.9487\n",
      "Epoch 6/20\n",
      "5/5 [==============================] - 15s 3s/step - loss: 0.2134 - bounding_box_loss: 0.0130 - class_label_loss: 0.2004 - bounding_box_accuracy: 0.7039 - class_label_accuracy: 0.9408 - val_loss: 0.1539 - val_bounding_box_loss: 0.0133 - val_class_label_loss: 0.1406 - val_bounding_box_accuracy: 0.7949 - val_class_label_accuracy: 0.9487\n",
      "Epoch 7/20\n",
      "5/5 [==============================] - 15s 3s/step - loss: 0.1261 - bounding_box_loss: 0.0120 - class_label_loss: 0.1142 - bounding_box_accuracy: 0.7039 - class_label_accuracy: 0.9737 - val_loss: 0.1392 - val_bounding_box_loss: 0.0124 - val_class_label_loss: 0.1268 - val_bounding_box_accuracy: 0.7949 - val_class_label_accuracy: 0.9487\n",
      "Epoch 8/20\n",
      "5/5 [==============================] - 15s 3s/step - loss: 0.1306 - bounding_box_loss: 0.0107 - class_label_loss: 0.1199 - bounding_box_accuracy: 0.7105 - class_label_accuracy: 0.9803 - val_loss: 0.1139 - val_bounding_box_loss: 0.0110 - val_class_label_loss: 0.1030 - val_bounding_box_accuracy: 0.7949 - val_class_label_accuracy: 0.9744\n",
      "Epoch 9/20\n",
      "5/5 [==============================] - 15s 3s/step - loss: 0.0841 - bounding_box_loss: 0.0088 - class_label_loss: 0.0753 - bounding_box_accuracy: 0.7566 - class_label_accuracy: 0.9934 - val_loss: 0.1095 - val_bounding_box_loss: 0.0099 - val_class_label_loss: 0.0996 - val_bounding_box_accuracy: 0.8718 - val_class_label_accuracy: 0.9487\n",
      "Epoch 10/20\n",
      "5/5 [==============================] - 15s 3s/step - loss: 0.0510 - bounding_box_loss: 0.0075 - class_label_loss: 0.0435 - bounding_box_accuracy: 0.8421 - class_label_accuracy: 0.9934 - val_loss: 0.1063 - val_bounding_box_loss: 0.0085 - val_class_label_loss: 0.0978 - val_bounding_box_accuracy: 0.8718 - val_class_label_accuracy: 0.9487\n",
      "Epoch 11/20\n",
      "5/5 [==============================] - 16s 3s/step - loss: 0.0568 - bounding_box_loss: 0.0056 - class_label_loss: 0.0512 - bounding_box_accuracy: 0.8750 - class_label_accuracy: 0.9934 - val_loss: 0.0975 - val_bounding_box_loss: 0.0074 - val_class_label_loss: 0.0902 - val_bounding_box_accuracy: 0.8718 - val_class_label_accuracy: 0.9487\n",
      "Epoch 12/20\n",
      "5/5 [==============================] - 16s 3s/step - loss: 0.0455 - bounding_box_loss: 0.0047 - class_label_loss: 0.0407 - bounding_box_accuracy: 0.8026 - class_label_accuracy: 0.9868 - val_loss: 0.0835 - val_bounding_box_loss: 0.0072 - val_class_label_loss: 0.0763 - val_bounding_box_accuracy: 0.8718 - val_class_label_accuracy: 0.9744\n",
      "Epoch 13/20\n",
      "5/5 [==============================] - 16s 3s/step - loss: 0.0471 - bounding_box_loss: 0.0040 - class_label_loss: 0.0431 - bounding_box_accuracy: 0.8158 - class_label_accuracy: 0.9934 - val_loss: 0.0747 - val_bounding_box_loss: 0.0069 - val_class_label_loss: 0.0678 - val_bounding_box_accuracy: 0.8718 - val_class_label_accuracy: 0.9744\n",
      "Epoch 14/20\n",
      "5/5 [==============================] - 16s 3s/step - loss: 0.0380 - bounding_box_loss: 0.0035 - class_label_loss: 0.0345 - bounding_box_accuracy: 0.8289 - class_label_accuracy: 1.0000 - val_loss: 0.0679 - val_bounding_box_loss: 0.0067 - val_class_label_loss: 0.0612 - val_bounding_box_accuracy: 0.8718 - val_class_label_accuracy: 0.9744\n",
      "Epoch 15/20\n",
      "5/5 [==============================] - 15s 3s/step - loss: 0.0205 - bounding_box_loss: 0.0030 - class_label_loss: 0.0175 - bounding_box_accuracy: 0.8816 - class_label_accuracy: 1.0000 - val_loss: 0.0726 - val_bounding_box_loss: 0.0066 - val_class_label_loss: 0.0660 - val_bounding_box_accuracy: 0.8718 - val_class_label_accuracy: 0.9744\n",
      "Epoch 16/20\n",
      "5/5 [==============================] - 16s 3s/step - loss: 0.0313 - bounding_box_loss: 0.0027 - class_label_loss: 0.0286 - bounding_box_accuracy: 0.9013 - class_label_accuracy: 1.0000 - val_loss: 0.0784 - val_bounding_box_loss: 0.0066 - val_class_label_loss: 0.0718 - val_bounding_box_accuracy: 0.8718 - val_class_label_accuracy: 0.9487\n",
      "Epoch 17/20\n",
      "5/5 [==============================] - 16s 3s/step - loss: 0.0266 - bounding_box_loss: 0.0024 - class_label_loss: 0.0242 - bounding_box_accuracy: 0.9079 - class_label_accuracy: 1.0000 - val_loss: 0.0797 - val_bounding_box_loss: 0.0064 - val_class_label_loss: 0.0733 - val_bounding_box_accuracy: 0.8718 - val_class_label_accuracy: 0.9487\n",
      "Epoch 18/20\n",
      "5/5 [==============================] - 16s 3s/step - loss: 0.0224 - bounding_box_loss: 0.0021 - class_label_loss: 0.0203 - bounding_box_accuracy: 0.9013 - class_label_accuracy: 1.0000 - val_loss: 0.0645 - val_bounding_box_loss: 0.0064 - val_class_label_loss: 0.0581 - val_bounding_box_accuracy: 0.8205 - val_class_label_accuracy: 0.9744\n",
      "Epoch 19/20\n",
      "5/5 [==============================] - 16s 3s/step - loss: 0.0181 - bounding_box_loss: 0.0018 - class_label_loss: 0.0162 - bounding_box_accuracy: 0.9013 - class_label_accuracy: 1.0000 - val_loss: 0.0560 - val_bounding_box_loss: 0.0062 - val_class_label_loss: 0.0498 - val_bounding_box_accuracy: 0.8718 - val_class_label_accuracy: 0.9744\n",
      "Epoch 20/20\n",
      "5/5 [==============================] - 16s 3s/step - loss: 0.0114 - bounding_box_loss: 0.0016 - class_label_loss: 0.0097 - bounding_box_accuracy: 0.9079 - class_label_accuracy: 1.0000 - val_loss: 0.0573 - val_bounding_box_loss: 0.0062 - val_class_label_loss: 0.0511 - val_bounding_box_accuracy: 0.8205 - val_class_label_accuracy: 0.9744\n",
      "[INFO] saving object detector model...\n"
     ]
    }
   ],
   "source": [
    "# train the network for bounding box regression and class label\n",
    "# prediction\n",
    "print(\"[INFO] training model...\")\n",
    "H = model.fit(\n",
    "\ttrain_images, train_targets,\n",
    "\tvalidation_data=(test_images, test_targets),\n",
    "\tbatch_size=batch_size,\n",
    "\tepochs=num_epochs,\n",
    "\tverbose=1)\n",
    "# serialize the model to disk\n",
    "#print(\"[INFO] saving object detector model...\")\n",
    "#model.save(config.MODEL_PATH, save_format=\"h5\")\n",
    "# serialize the label binarizer to disk\n",
    "#print(\"[INFO] saving label binarizer...\")\n",
    "#f = open(config.LB_PATH, \"wb\")\n",
    "#f.write(pickle.dumps(lb))\n",
    "#f.close()"
   ]
  },
  {
   "cell_type": "code",
   "execution_count": 57,
   "id": "79af2026",
   "metadata": {},
   "outputs": [
    {
     "name": "stdout",
     "output_type": "stream",
     "text": [
      "[INFO] saving object detector model...\n"
     ]
    }
   ],
   "source": [
    "# serialize the model to disk\n",
    "print(\"[INFO] saving object detector model...\")\n",
    "model.save(\"best_model_obj_det_bbox_reg\", save_format=\"h5\")\n",
    "# serialize the label binarizer to disk\n",
    "#print(\"[INFO] saving label binarizer...\")\n",
    "#f = open(config.LB_PATH, \"wb\")\n",
    "#f.write(pickle.dumps(lb))\n",
    "#f.close()"
   ]
  },
  {
   "cell_type": "code",
   "execution_count": 60,
   "id": "222c92e1",
   "metadata": {},
   "outputs": [
    {
     "data": {
      "image/png": "[encoded data removed]",
      "text/plain": [
       "<Figure size 936x936 with 3 Axes>"
      ]
     },
     "metadata": {},
     "output_type": "display_data"
    }
   ],
   "source": [
    "# plot the total loss, label loss, and bounding box loss\n",
    "lossNames = [\"loss\", \"class_label_loss\", \"bounding_box_loss\"]\n",
    "N = np.arange(0, num_epochs)\n",
    "plt.style.use(\"ggplot\")\n",
    "(fig, ax) = plt.subplots(3, 1, figsize=(13, 13))\n",
    "# loop over the loss names\n",
    "for (i, l) in enumerate(lossNames):\n",
    "\t# plot the loss for both the training and validation data\n",
    "\ttitle = \"Loss for {}\".format(l) if l != \"loss\" else \"Total loss\"\n",
    "\tax[i].set_title(title)\n",
    "\tax[i].set_xlabel(\"Epoch #\")\n",
    "\tax[i].set_ylabel(\"Loss\")\n",
    "\tax[i].plot(N, H.history[l], label=l)\n",
    "\tax[i].plot(N, H.history[\"val_\" + l], label=\"val_\" + l)\n",
    "\tax[i].legend()\n",
    "# save the losses figure and create a new figure for the accuracies\n",
    "plt.tight_layout()\n",
    "#plotPath = os.path.sep.join([\"plots\", \"losses.png\"])\n",
    "plot_path=\"losses.png\"\n",
    "plt.savefig(plot_path)\n",
    "plt.show()\n",
    "plt.close()"
   ]
  },
  {
   "cell_type": "code",
   "execution_count": 61,
   "id": "5bcca2ce",
   "metadata": {},
   "outputs": [
    {
     "data": {
      "image/png": "[encoded data removed]",
      "text/plain": [
       "<Figure size 432x288 with 1 Axes>"
      ]
     },
     "metadata": {},
     "output_type": "display_data"
    }
   ],
   "source": [
    "# create a new figure for the accuracies\n",
    "plt.style.use(\"ggplot\")\n",
    "plt.figure()\n",
    "plt.plot(N, H.history[\"class_label_accuracy\"],\n",
    "\tlabel=\"class_label_train_acc\")\n",
    "plt.plot(N, H.history[\"val_class_label_accuracy\"],\n",
    "\tlabel=\"val_class_label_acc\")\n",
    "plt.title(\"Class Label Accuracy\")\n",
    "plt.xlabel(\"Epoch #\")\n",
    "plt.ylabel(\"Accuracy\")\n",
    "plt.legend(loc=\"lower left\")\n",
    "# save the accuracies plot\n",
    "#plot_path = os.path.sep.join([config.PLOTS_PATH, \"accs.png\"])\n",
    "plot_path = \"accs.png\"\n",
    "\n",
    "plt.savefig(plot_path)\n",
    "plt.show()\n",
    "plt.close()"
   ]
  },
  {
   "cell_type": "code",
   "execution_count": 65,
   "id": "33ec4a9e",
   "metadata": {},
   "outputs": [
    {
     "name": "stdout",
     "output_type": "stream",
     "text": [
      "2/2 [==============================] - 3s 635ms/step\n"
     ]
    }
   ],
   "source": [
    "\t# predict the bounding box of the object along with the class\n",
    "\t# label\n",
    "\t(box_preds, label_preds) = model.predict(test_images)\n"
   ]
  },
  {
   "cell_type": "code",
   "execution_count": 66,
   "id": "c52afb0c",
   "metadata": {},
   "outputs": [
    {
     "name": "stdout",
     "output_type": "stream",
     "text": [
      "(39, 4)\n",
      "(39, 3)\n"
     ]
    }
   ],
   "source": [
    "print(box_preds.shape)\n",
    "print(label_preds.shape)"
   ]
  },
  {
   "cell_type": "code",
   "execution_count": 70,
   "id": "75d1d602",
   "metadata": {},
   "outputs": [
    {
     "data": {
      "text/plain": [
       "array([1, 0, 0, 0, 0, 1, 1, 1, 0, 1, 1, 1, 0, 1, 1, 0, 0, 1, 2, 1, 1, 2,\n",
       "       2, 2, 1, 2, 1, 1, 1, 1, 0, 1, 0, 0, 0, 0, 0, 0, 1], dtype=int64)"
      ]
     },
     "execution_count": 70,
     "metadata": {},
     "output_type": "execute_result"
    }
   ],
   "source": [
    "# determine the class label with the largest predicted\n",
    "# probability\n",
    "label_preds = np.argmax(label_preds, axis=1)\n",
    "label_preds"
   ]
  },
  {
   "cell_type": "code",
   "execution_count": 69,
   "id": "1683adf5",
   "metadata": {},
   "outputs": [
    {
     "data": {
      "text/plain": [
       "array([[0.09783674, 0.15607141, 0.92279863, 0.85861635],\n",
       "       [0.06306472, 0.1273091 , 0.9558998 , 0.869086  ],\n",
       "       [0.11148161, 0.18223786, 0.92243314, 0.90256697],\n",
       "       [0.07318557, 0.09121587, 0.9184338 , 0.85542285],\n",
       "       [0.10747001, 0.17160971, 0.9079489 , 0.7733988 ],\n",
       "       [0.09797069, 0.19169429, 0.9179567 , 0.8033997 ],\n",
       "       [0.06673022, 0.16385545, 0.94180334, 0.8503827 ],\n",
       "       [0.06051809, 0.12110034, 0.94924587, 0.8698731 ],\n",
       "       [0.11978553, 0.20805308, 0.90289545, 0.80812377],\n",
       "       [0.120442  , 0.19868095, 0.90575147, 0.8000036 ],\n",
       "       [0.07461311, 0.17850782, 0.9341081 , 0.7824822 ],\n",
       "       [0.13179307, 0.17569467, 0.8771098 , 0.7378756 ],\n",
       "       [0.09437621, 0.16581532, 0.94213116, 0.90345204],\n",
       "       [0.12317091, 0.21470758, 0.8771515 , 0.8209924 ],\n",
       "       [0.05480836, 0.09619773, 0.9409213 , 0.8613172 ],\n",
       "       [0.07819173, 0.09213199, 0.92317057, 0.89284164],\n",
       "       [0.07589494, 0.11454522, 0.93983835, 0.89628786],\n",
       "       [0.06603634, 0.12724711, 0.9475554 , 0.95148   ],\n",
       "       [0.07859715, 0.09342992, 0.93843687, 0.8984815 ],\n",
       "       [0.08813716, 0.22743307, 0.9167774 , 0.85060364],\n",
       "       [0.06093109, 0.15584648, 0.9354525 , 0.9360502 ],\n",
       "       [0.11601973, 0.07101367, 0.8908619 , 0.965677  ],\n",
       "       [0.08001014, 0.04121426, 0.92711365, 0.9779721 ],\n",
       "       [0.07853404, 0.01524171, 0.9533065 , 0.9884688 ],\n",
       "       [0.11170407, 0.1914737 , 0.93442494, 0.80845225],\n",
       "       [0.07632429, 0.13788348, 0.9441544 , 0.94287866],\n",
       "       [0.06785012, 0.17072335, 0.93287665, 0.8588164 ],\n",
       "       [0.08906627, 0.21114337, 0.9166808 , 0.79300976],\n",
       "       [0.06929255, 0.15664877, 0.9541759 , 0.8972971 ],\n",
       "       [0.05519587, 0.12969576, 0.9465145 , 0.8216825 ],\n",
       "       [0.05817463, 0.12712412, 0.93706346, 0.8892906 ],\n",
       "       [0.09439322, 0.21491954, 0.90017664, 0.7848975 ],\n",
       "       [0.09649822, 0.16889891, 0.92038035, 0.7810203 ],\n",
       "       [0.10346686, 0.14000273, 0.92992944, 0.91588855],\n",
       "       [0.07062766, 0.10538016, 0.9408734 , 0.9091299 ],\n",
       "       [0.12213102, 0.1772153 , 0.92293787, 0.7566233 ],\n",
       "       [0.08058187, 0.18570879, 0.92497975, 0.8776457 ],\n",
       "       [0.06938709, 0.11373903, 0.9390689 , 0.7600343 ],\n",
       "       [0.1445472 , 0.24389267, 0.88364595, 0.7380424 ]], dtype=float32)"
      ]
     },
     "execution_count": 69,
     "metadata": {},
     "output_type": "execute_result"
    }
   ],
   "source": [
    "box_preds"
   ]
  },
  {
   "cell_type": "code",
   "execution_count": 76,
   "id": "b1c3ec8b",
   "metadata": {},
   "outputs": [],
   "source": [
    "(h, w) = target_h,target_w\n",
    "\n",
    "for i in range(len(test_images)):\n",
    "    test_image=test_images[i]\n",
    "    label_pred=label_preds[i]\n",
    "    label=labels_to_class[label_pred]\n",
    "    box_pred=box_preds[i]\n",
    "    x1,y1,x2,y2=box_pred\n",
    "    # scale the predicted bounding box coordinates based on the image\n",
    "    # dimensions\n",
    "    x1 = int(x1 * w)\n",
    "    y1 = int(y1 * h)\n",
    "    x2 = int(x2 * w)\n",
    "    y2 = int(y2 * h)\n",
    "    # draw the predicted bounding box and class label on the image\n",
    "    y = y1 - 10 if y1 - 10 > 10 else y1 + 10\n",
    "    cv2.putText(test_image, label, (x1, y), cv2.FONT_HERSHEY_SIMPLEX,0.65, (0, 255, 0), 2)\n",
    "    cv2.rectangle(test_image, (x1, y1), (x2, y2),(0, 255, 0), 2)\n",
    "    # show the output image\n",
    "    cv2.imshow(\"Output\", test_image)\n",
    "    cv2.waitKey(0)"
   ]
  },
  {
   "cell_type": "code",
   "execution_count": 72,
   "id": "a6621635",
   "metadata": {},
   "outputs": [
    {
     "data": {
      "text/plain": [
       "1"
      ]
     },
     "execution_count": 72,
     "metadata": {},
     "output_type": "execute_result"
    }
   ],
   "source": [
    "label_pred"
   ]
  },
  {
   "cell_type": "markdown",
   "id": "a944b3bc",
   "metadata": {},
   "source": [
    "### One of the largest limitations of the above approach is that the model can only predict one set of bounding boxes and class labels."
   ]
  },
  {
   "cell_type": "code",
   "execution_count": null,
   "id": "3cc72257",
   "metadata": {},
   "outputs": [],
   "source": []
  }
 ],
 "metadata": {
  "kernelspec": {
   "display_name": "Python 3 (ipykernel)",
   "language": "python",
   "name": "python3"
  },
  "language_info": {
   "codemirror_mode": {
    "name": "ipython",
    "version": 3
   },
   "file_extension": ".py",
   "mimetype": "text/x-python",
   "name": "python",
   "nbconvert_exporter": "python",
   "pygments_lexer": "ipython3",
   "version": "3.8.11"
  }
 },
 "nbformat": 4,
 "nbformat_minor": 5
}
